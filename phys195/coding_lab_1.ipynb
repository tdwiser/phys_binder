{
 "cells": [
  {
   "cell_type": "markdown",
   "metadata": {},
   "source": [
    "# Phys 195 - Coding Lab 1\n",
    "## Introduction to Python and Jupyter"
   ]
  },
  {
   "cell_type": "markdown",
   "metadata": {},
   "source": [
    "Jupyter notebooks are composed of cells. This cell is separate from the cell above it (that contains the title and subtitle). Cells can either contain text (like these two), or Python code (like the next cell). To run the code in a cell, select the cell (by clicking or using the arrow keys) and then pressing Shift+Enter."
   ]
  },
  {
   "cell_type": "code",
   "execution_count": null,
   "metadata": {},
   "outputs": [],
   "source": [
    "2 + 2"
   ]
  },
  {
   "cell_type": "markdown",
   "metadata": {},
   "source": [
    "(You should agree with Python about the output of the code above. What about the code below? Predict what the output will be, then check by running the cell with Shift+Enter.)"
   ]
  },
  {
   "cell_type": "code",
   "execution_count": null,
   "metadata": {},
   "outputs": [],
   "source": [
    "x = 4\n",
    "y = 2*x\n",
    "2*y + 3/2"
   ]
  },
  {
   "cell_type": "markdown",
   "metadata": {},
   "source": [
    "As you can see, Python does arithmetic according to the usual order of operations. (You can add parentheses as needed.) It also can assign values to variables, like x and y. A couple of differences from normal algebra:"
   ]
  },
  {
   "cell_type": "code",
   "execution_count": null,
   "metadata": {},
   "outputs": [],
   "source": [
    "long_variable_name = 17 # works just fine!"
   ]
  },
  {
   "cell_type": "code",
   "execution_count": null,
   "metadata": {},
   "outputs": [],
   "source": [
    "2*x + 3*y = 7 # will cause an error."
   ]
  },
  {
   "cell_type": "markdown",
   "metadata": {},
   "source": [
    "It's often a good idea to give a longer, more descriptive name to a variable than you normally would on paper. And, unlike on paper, the equals sign doesn't work both ways: you have to put a single variable on the left, and the value you're assigning on the right. '=' is the *assignment* operation, not the *equality* relation."
   ]
  },
  {
   "cell_type": "markdown",
   "metadata": {},
   "source": [
    "## More than a calculator"
   ]
  },
  {
   "cell_type": "markdown",
   "metadata": {},
   "source": [
    "Think through what the code below does, then run it:"
   ]
  },
  {
   "cell_type": "code",
   "execution_count": null,
   "metadata": {},
   "outputs": [],
   "source": [
    "total = 0\n",
    "for i in range(100): # i=0,1,2,...,99\n",
    "    total += i # add i to total\n",
    "print(total) # 'print' means display, not literally print to a printer"
   ]
  },
  {
   "cell_type": "markdown",
   "metadata": {},
   "source": [
    "`for..in` defines a loop over a certain set of values, in this case the integers 0 through 99. The indented block of code is then executed in order for each value of `i`."
   ]
  },
  {
   "cell_type": "markdown",
   "metadata": {},
   "source": [
    "**Exercise 1:** Modify the code to make a loop that calculates and displays the sum of the cubes of the first 100 numbers. (There are two ways to cube a number in Python: one of them only uses multiplication, which you have already seen. The other is something you can Google if you're interested.)"
   ]
  },
  {
   "cell_type": "code",
   "execution_count": null,
   "metadata": {},
   "outputs": [],
   "source": [
    "# your code here"
   ]
  },
  {
   "cell_type": "markdown",
   "metadata": {},
   "source": [
    "## Functions"
   ]
  },
  {
   "cell_type": "markdown",
   "metadata": {},
   "source": [
    "We can make code that is reused multiple times with different values by defining *functions*. These are a lot like mathematical functions f(x)=x^2. In fact:"
   ]
  },
  {
   "cell_type": "code",
   "execution_count": null,
   "metadata": {},
   "outputs": [],
   "source": [
    "def f(x): # def=define a function with one input, x\n",
    "    return x*x # the output is x squared\n",
    "\n",
    "def g(x, y): # a function with two inputs, x and y\n",
    "    z = x - y # everything that's indented is part of the function\n",
    "    return z"
   ]
  },
  {
   "cell_type": "code",
   "execution_count": null,
   "metadata": {},
   "outputs": [],
   "source": [
    "print(f(1))\n",
    "print(f(10))\n",
    "print(f(-3.14))\n",
    "print(g(3, 7))"
   ]
  },
  {
   "cell_type": "markdown",
   "metadata": {},
   "source": [
    "**Exercise 2:** Define a new function named `h` that takes one input (`x`) and outputs `x - x^3`. Define at least one intermediate variable to use to do the calculation. Print some outputs of your function."
   ]
  },
  {
   "cell_type": "code",
   "execution_count": null,
   "metadata": {},
   "outputs": [],
   "source": [
    "# your code here"
   ]
  },
  {
   "cell_type": "markdown",
   "metadata": {},
   "source": [
    "## Fancier computations and plots"
   ]
  },
  {
   "cell_type": "code",
   "execution_count": null,
   "metadata": {},
   "outputs": [],
   "source": [
    "import numpy as np # import adds features to Python. numpy adds fast numerical calculations\n",
    "import matplotlib.pyplot as plt # pyplot adds quick & easy plotting/graphing capabilities"
   ]
  },
  {
   "cell_type": "code",
   "execution_count": null,
   "metadata": {},
   "outputs": [],
   "source": [
    "x = np.arange(0,10,0.1) # this is a list of equally spaced numbers 0,0.1,0.2,.....9.9\n",
    "y = np.exp(x) # aka e^x. numpy (np) applies the function to every number in the list automatically\n",
    "plt.plot(x,y)"
   ]
  },
  {
   "cell_type": "markdown",
   "metadata": {},
   "source": [
    "**Exercise 3:** Modify the code to make a plot of y = square root of x from x=0 to x=100. Pick a bigger spacing than 0.1, but not so big that your plot looks jagged. (Hint: numpy's square root function is called `np.sqrt`, and you can check to make sure the biggest y-value you get is 10 (the square root of 100).)"
   ]
  },
  {
   "cell_type": "code",
   "execution_count": null,
   "metadata": {},
   "outputs": [],
   "source": [
    "# your code here"
   ]
  },
  {
   "cell_type": "markdown",
   "metadata": {},
   "source": [
    "# Discussion"
   ]
  },
  {
   "cell_type": "markdown",
   "metadata": {},
   "source": [
    "**Exercise 4:** Briefly discuss how this lab went. Did you have any challenges with this lab? Do you have any experience with computer programming? Are you interested to see what we do with it over the rest of the semester?"
   ]
  },
  {
   "cell_type": "markdown",
   "metadata": {},
   "source": [
    "(your comments here) This is a \"Markdown\" cell. You can format the text with *italic*, **bold**, etc."
   ]
  },
  {
   "cell_type": "markdown",
   "metadata": {},
   "source": [
    "# Submit"
   ]
  },
  {
   "cell_type": "markdown",
   "metadata": {},
   "source": [
    "Your name:"
   ]
  },
  {
   "cell_type": "markdown",
   "metadata": {},
   "source": [
    "Once you have completed all 4 exercises with code that runs properly (or written comments as appropriate), add your name below. Then, making sure the notebook is saved, \"File > Download\" (you should get a .ipynb file), rename it to `lastname_195_lab_1.ipynb`, and email it to me (tdwiser@truman.edu) with the subject line \"Coding Lab 1 Submission.\""
   ]
  },
  {
   "cell_type": "code",
   "execution_count": null,
   "metadata": {},
   "outputs": [],
   "source": []
  }
 ],
 "metadata": {
  "kernelspec": {
   "display_name": "Python 3 (ipykernel)",
   "language": "python",
   "name": "python3"
  },
  "language_info": {
   "codemirror_mode": {
    "name": "ipython",
    "version": 3
   },
   "file_extension": ".py",
   "mimetype": "text/x-python",
   "name": "python",
   "nbconvert_exporter": "python",
   "pygments_lexer": "ipython3",
   "version": "3.8.10"
  }
 },
 "nbformat": 4,
 "nbformat_minor": 4
}
