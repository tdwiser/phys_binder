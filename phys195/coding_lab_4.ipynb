{
 "cells": [
  {
   "cell_type": "markdown",
   "metadata": {},
   "source": [
    "# Phys 195 - Online Lab 4\n",
    "## 2D and 3D Motion with Vectors"
   ]
  },
  {
   "cell_type": "markdown",
   "metadata": {},
   "source": [
    "Your name:\n",
    "\n",
    "Name of lab partner(s):"
   ]
  },
  {
   "cell_type": "code",
   "execution_count": null,
   "metadata": {},
   "outputs": [],
   "source": [
    "import math # includes functions like math.sqrt, math.pow\n",
    "import numpy as np # fast numerical functions on lists\n",
    "import matplotlib.pyplot as plt # plotting functions"
   ]
  },
  {
   "cell_type": "markdown",
   "metadata": {},
   "source": [
    "# Introduction - Projectile Motion with Air Resistance"
   ]
  },
  {
   "cell_type": "markdown",
   "metadata": {},
   "source": [
    "**Exercise 1:** Review and run the below code, which computes motion in 2D using a force-based approach. It's possible to add arbitrary forces, including air resistance, in this way, but right now the air resistance (drag) is set to zero."
   ]
  },
  {
   "cell_type": "code",
   "execution_count": null,
   "metadata": {},
   "outputs": [],
   "source": [
    "def weight_force(m):\n",
    "    g = 9.8 # m/s^2\n",
    "    return np.array([0, -m*g]) # vector with x and y components"
   ]
  },
  {
   "cell_type": "code",
   "execution_count": null,
   "metadata": {},
   "outputs": [],
   "source": [
    "def drag_force(m,vx,vy):\n",
    "    # vector F = bv^2, directed opposite to the velocity\n",
    "    b = 0 # N/(m^2/s^2)\n",
    "    v = math.sqrt(vx**2+vy**2) # speed = magnitude of velocity vector\n",
    "    vhat = np.array([vx, vy])/v # unit vector in the direction of velocity vector = velocity vector / speed\n",
    "    return -b*(v**2)*vhat"
   ]
  },
  {
   "cell_type": "code",
   "execution_count": null,
   "metadata": {},
   "outputs": [],
   "source": [
    "def fall_with_drag(xi,yi,vxi,vyi,ti,tf,dt): # define a function to compute the motion of a free-falling object.\n",
    "    # xi, yi, vxi, vyi are initial position and velocity; ti, tf are initial and final times; dt is the timestep.\n",
    "    # returns: (t,vx,vy,x,y) lists of times, velocities, and y-values\n",
    "    (t, x, y, vx, vy) = (ti, xi, yi, vxi, vyi)\n",
    "    t_list = [t] # start lists for keeping track of values over time\n",
    "    vx_list = [vx]\n",
    "    vy_list = [vy]\n",
    "    x_list = [x]\n",
    "    y_list = [y]\n",
    "    m = 1 # kg; doesn't matter for free-fall but might for other types of motion\n",
    "    while t < tf: # keep repeating the indented code until time is up\n",
    "        x = x + vx*dt # move a bit assuming constant velocity\n",
    "        y = y + vy*dt\n",
    "        (Fx,Fy) = weight_force(m) + drag_force(m,vx,vy)\n",
    "        ax = Fx/m # compute the acceleration from N2\n",
    "        ay = Fy/m\n",
    "        vx = vx + ax*dt # update the velocity by accelerating\n",
    "        vy = vy + ay*dt\n",
    "        t = t + dt\n",
    "        t_list.append(t) # add the current values to the lists\n",
    "        vx_list.append(vx)\n",
    "        vy_list.append(vy)\n",
    "        x_list.append(x)\n",
    "        y_list.append(y)\n",
    "    return (t_list, np.array(x_list), np.array(y_list), np.array(vx_list), np.array(vy_list))\n",
    "    # return the lists as the output of the function"
   ]
  },
  {
   "cell_type": "code",
   "execution_count": null,
   "metadata": {},
   "outputs": [],
   "source": [
    "(t,x,y,vx,vy) = fall_with_drag(0,0,10,5,0,2,0.1)"
   ]
  },
  {
   "cell_type": "code",
   "execution_count": null,
   "metadata": {},
   "outputs": [],
   "source": [
    "plt.axes().set_aspect('equal', 'datalim')\n",
    "plt.plot(x,y)"
   ]
  },
  {
   "cell_type": "code",
   "execution_count": null,
   "metadata": {},
   "outputs": [],
   "source": [
    "v = np.sqrt(vx**2+vy**2) # compute the speed from the velocity\n",
    "plt.plot(t,v)"
   ]
  },
  {
   "cell_type": "markdown",
   "metadata": {},
   "source": [
    "**Exercise 1 continued:** Set `b`, the drag coefficient, to a nonzero, positive value---about 0.1 is a good start---and observe how the plots change. The first plot is the shape of the trajectory, while the second shows the projectile's speed over time. Describe the changes and explain them physically."
   ]
  },
  {
   "cell_type": "markdown",
   "metadata": {},
   "source": [
    "*your commentary here*"
   ]
  },
  {
   "cell_type": "markdown",
   "metadata": {},
   "source": [
    "# Orbits"
   ]
  },
  {
   "cell_type": "markdown",
   "metadata": {},
   "source": [
    "In this section you will explore more of the behavior of orbits under the influence of the inverse-square law of gravity."
   ]
  },
  {
   "cell_type": "markdown",
   "metadata": {},
   "source": [
    "**Exercise 2:** Complete the missing portions of the `gravitational_force()` function below. Follow the pattern of the `drag_force()` function, but remember that the gravitational force has a magnitude of GM m / r^2 and points radially inward (opposite to the position vector, rather than the velocity vector)."
   ]
  },
  {
   "cell_type": "code",
   "execution_count": null,
   "metadata": {},
   "outputs": [],
   "source": [
    "def gravitational_force(m,x,y):\n",
    "    GM = 4*math.pi**2 # G*Mass of the Sun, in AU^3/yr^2\n",
    "    r = # ...compute distance from the origin from x and y\n",
    "    rhat = # ...compute the unit vector that points in the direction of the position vector (radially outward)\n",
    "    return # ...return the components of the force vector (Fx, Fy)"
   ]
  },
  {
   "cell_type": "code",
   "execution_count": null,
   "metadata": {},
   "outputs": [],
   "source": [
    "def orbit(xi,yi,vxi,vyi,ti,tf,dt): # define a function to compute the motion of an object in orbit around the Sun.\n",
    "    # xi, yi, vxi, vyi are initial position and velocity; ti, tf are initial and final times; dt is the timestep.\n",
    "    # returns: (t,vx,vy,x,y) lists of times, velocities, and y-values\n",
    "    (t, x, y, vx, vy) = (ti, xi, yi, vxi, vyi)\n",
    "    t_list = [t] # start lists for keeping track of values over time\n",
    "    vx_list = [vx]\n",
    "    vy_list = [vy]\n",
    "    x_list = [x]\n",
    "    y_list = [y]\n",
    "    m = 1 # kg; doesn't matter for orbits but might for other types of motion\n",
    "    while t < tf: # keep repeating the indented code until time is up\n",
    "        x = x + vx*dt # move a bit assuming constant velocity\n",
    "        y = y + vy*dt\n",
    "        (Fx,Fy) = gravitational_force(m,x,y)\n",
    "        ax = Fx/m # compute the acceleration from N2\n",
    "        ay = Fy/m\n",
    "        vx = vx + ax*dt # update the velocity by accelerating\n",
    "        vy = vy + ay*dt\n",
    "        t = t + dt\n",
    "        t_list.append(t) # add the current values to the lists\n",
    "        vx_list.append(vx)\n",
    "        vy_list.append(vy)\n",
    "        x_list.append(x)\n",
    "        y_list.append(y)\n",
    "    return (t_list, np.array(x_list), np.array(y_list), np.array(vx_list), np.array(vy_list))\n",
    "    # return the lists as the output of the function"
   ]
  },
  {
   "cell_type": "markdown",
   "metadata": {},
   "source": [
    "**Exercise 2 continued:** Check your code using the below tests. The first should reproduce a circle of radius 1, representing Earth's orbit. The second verifies that the angular momentum remains constant, as it should."
   ]
  },
  {
   "cell_type": "code",
   "execution_count": null,
   "metadata": {},
   "outputs": [],
   "source": [
    "(t,x,y,vx,vy) = orbit(1,0,0,6.28,0,10,0.01) ## Should reproduce Earth's orbit around the Sun ~ a circle of radius 1 AU"
   ]
  },
  {
   "cell_type": "code",
   "execution_count": null,
   "metadata": {},
   "outputs": [],
   "source": [
    "plt.axes().set_aspect('equal', 'datalim') # keep the axes locked to the same scale\n",
    "plt.plot(x,y)"
   ]
  },
  {
   "cell_type": "code",
   "execution_count": null,
   "metadata": {},
   "outputs": [],
   "source": [
    "ell = x*vy - y*vx # z-component of angular momentum; should be constant\n",
    "plt.plot(t,ell) # look for a flat line - range of axes may look odd due to automatic scaling"
   ]
  },
  {
   "cell_type": "markdown",
   "metadata": {},
   "source": [
    "**Exercise 3:** Find different initial conditions to plug into the `orbit()` function that result in (a) a clearly elliptical (non-circular) orbit and (b) an unbound orbit (one above escape velocity). Include plots of both orbits. You may need to adjust the time range to generate more or less of the orbital trajectory."
   ]
  },
  {
   "cell_type": "code",
   "execution_count": null,
   "metadata": {},
   "outputs": [],
   "source": [
    "# your code and plots here"
   ]
  },
  {
   "cell_type": "markdown",
   "metadata": {},
   "source": [
    "**Exercise 4:** You should have found that your elliptical orbit was (at least approximately) *closed*, in that it came back to the same position after one full rotation. That's not actually required for orbits, and is a special feature of Newtonian gravity's inverse-square law. Change the law of gravity to an \"inverse 2.1-power\" law to see what happens to non-circular orbits then. Describe in words and show some plots. You'll probably want to increase the time range to cover several or a few 10s of years/orbits."
   ]
  },
  {
   "cell_type": "code",
   "execution_count": null,
   "metadata": {},
   "outputs": [],
   "source": [
    "# your code and plots here"
   ]
  },
  {
   "cell_type": "markdown",
   "metadata": {},
   "source": [
    "*your discussion here*"
   ]
  },
  {
   "cell_type": "markdown",
   "metadata": {},
   "source": [
    "# Submit"
   ]
  },
  {
   "cell_type": "markdown",
   "metadata": {},
   "source": [
    "Once you have completed all 4 exercises with code that runs properly (and written discussion answers as appropriate), make sure that your name(s) are at the top of the file. Then, making sure the notebook is saved, \"File > Download as... > Notebook (.ipynb)\" (you should get a .ipynb file), rename it to `lastname_coding_lab_4.ipynb`, and email it to me (tdwiser@truman.edu) with the subject line \"Online Lab 4 Submission.\""
   ]
  },
  {
   "cell_type": "markdown",
   "metadata": {},
   "source": [
    "Note that you will not be able to open this file by double-clicking on it, because Windows doesn't recognize this file type. You can reopen it from inside Jupyter Notebook to make sure the contents are saved and correct."
   ]
  }
 ],
 "metadata": {
  "kernelspec": {
   "display_name": "Python 3",
   "language": "python",
   "name": "python3"
  },
  "language_info": {
   "codemirror_mode": {
    "name": "ipython",
    "version": 3
   },
   "file_extension": ".py",
   "mimetype": "text/x-python",
   "name": "python",
   "nbconvert_exporter": "python",
   "pygments_lexer": "ipython3",
   "version": "3.6.13"
  }
 },
 "nbformat": 4,
 "nbformat_minor": 4
}
