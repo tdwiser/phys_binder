{
 "cells": [
  {
   "cell_type": "markdown",
   "metadata": {},
   "source": [
    "# Phys 195 - Coding Lab 2\n",
    "## Conservation of Energy"
   ]
  },
  {
   "cell_type": "markdown",
   "metadata": {},
   "source": [
    "Your name:\n",
    "\n",
    "Name(s) of Lab Partners:"
   ]
  },
  {
   "cell_type": "markdown",
   "metadata": {},
   "source": [
    "# Introduction"
   ]
  },
  {
   "cell_type": "code",
   "execution_count": null,
   "metadata": {},
   "outputs": [],
   "source": [
    "import math # includes functions like math.sqrt, math.pow\n",
    "import numpy as np # fast numerical functions on lists\n",
    "import matplotlib.pyplot as plt # plotting functions"
   ]
  },
  {
   "cell_type": "markdown",
   "metadata": {},
   "source": [
    "The code below generates lists (numpy arrays) of values of t, v, and y for a free-falling object using the constant-acceleration kinematic equations. Then, you will *verify* that energy is conserved for free-falling objects. "
   ]
  },
  {
   "cell_type": "code",
   "execution_count": null,
   "metadata": {},
   "outputs": [],
   "source": [
    "g = 9.8 # m/s^2\n",
    "t = np.arange(0,5,0.1) # from 0 to 5 s, in steps of dt = 0.1 s\n",
    "v0 = 0 # dropped from rest\n",
    "y0 = 100 # dropped from 100 m above the ground\n",
    "v = v0 + (-g)*t\n",
    "y = y0 + v0*t + (-g)*(t**2)/2"
   ]
  },
  {
   "cell_type": "code",
   "execution_count": null,
   "metadata": {},
   "outputs": [],
   "source": [
    "plt.plot(t,y) # plot y vs t\n",
    "plt.plot(t,v) # plot v vs t"
   ]
  },
  {
   "cell_type": "markdown",
   "metadata": {},
   "source": [
    "**Exercise 1:** Now, complete the following code to calculate and plot the kinetic, potential, and total energies over time:"
   ]
  },
  {
   "cell_type": "code",
   "execution_count": null,
   "metadata": {},
   "outputs": [],
   "source": [
    "m = 1 # kg; mass doesn't matter for the motion, but it does for the energy\n",
    "K = # kinetic energy\n",
    "U = # potential energy\n",
    "E = # total energy\n",
    "plt.plot(t,K,t,U,t,E) # plot K, U, E vs time"
   ]
  },
  {
   "cell_type": "markdown",
   "metadata": {},
   "source": [
    "**Discuss:** Explain in words what is happening to the kinetic, potential, and total energies over time as the object falls."
   ]
  },
  {
   "cell_type": "markdown",
   "metadata": {},
   "source": [
    "(your answer here)"
   ]
  },
  {
   "cell_type": "markdown",
   "metadata": {},
   "source": [
    "# Predicting Motion from Energy"
   ]
  },
  {
   "cell_type": "markdown",
   "metadata": {},
   "source": [
    "Above, we were sneaky and used `numpy` to compute a bunch of values at once. We can do that when we have exact formulas for what we want to compute. In more complicated scenarios, we have to tread carefully, since each value will depend on the previous one. Proceeding in this way is a form of *numerical integration*. You can also refer to Ch. 2.2 in the textbook for some other interesting examples."
   ]
  },
  {
   "cell_type": "code",
   "execution_count": null,
   "metadata": {},
   "outputs": [],
   "source": [
    "def freefall(yi,vi,ti,tf,dt): # define a function to compute the motion of a free-falling object.\n",
    "    # yi, vi are initial position and velocity; ti, tf are initial and final times; dt is the timestep.\n",
    "    # returns: (t,v,y) lists of times, velocities, and y-values\n",
    "    (t, v, y) = (ti, vi, yi)\n",
    "    t_list = [t] # start lists for keeping track of values over time\n",
    "    v_list = [v]\n",
    "    y_list = [y]\n",
    "    m = 1 # kg; doesn't matter for free-fall but might for other types of motion\n",
    "    g = 9.8 # m/s^2\n",
    "    energy = 1/2*m*vi**2 + m*g*yi # constant total energy\n",
    "    print(\"Total energy:\",energy)\n",
    "    while t < tf: # keep repeating the indented code until time is up\n",
    "        y = y + v*dt # move a bit assuming constant velocity\n",
    "        ke = energy - m*g*y\n",
    "        if ke < 0:\n",
    "            ke = 0 # prevent moving further into energetically forbidden region\n",
    "            break # end the calculation early\n",
    "        v = math.sqrt(2*ke/m) * (v/abs(v)) # update the from solving K = 1/2 m v^2. (v/abs(v)) gives the sign of v (+/-).\n",
    "        t = t + dt\n",
    "        t_list.append(t) # add the current values to the lists\n",
    "        v_list.append(v)\n",
    "        y_list.append(y)\n",
    "    return (t_list, v_list, y_list) # return the lists as the output of the function"
   ]
  },
  {
   "cell_type": "code",
   "execution_count": null,
   "metadata": {},
   "outputs": [],
   "source": [
    "(t,v,y) = freefall(0,10,0,5,0.01) # get lists for t, v, y for the specified initial conditions"
   ]
  },
  {
   "cell_type": "code",
   "execution_count": null,
   "metadata": {},
   "outputs": [],
   "source": [
    "plt.plot(t,y)"
   ]
  },
  {
   "cell_type": "markdown",
   "metadata": {},
   "source": [
    "**Discuss:** Even though the function call above asked to get the results from t=0 to 5 s, we only got about 1 second of motion data out. Find the line in the function that causes the calculation to end early, and explain why the function stops when it does---in terms of physics. Explain also what would happen in reality at that point. (Further improvement of the code could avoid this problem, but at the expense of making the calculation less clear.)"
   ]
  },
  {
   "cell_type": "markdown",
   "metadata": {},
   "source": [
    "(your answer here)"
   ]
  },
  {
   "cell_type": "markdown",
   "metadata": {},
   "source": [
    "**Exercise 2:** Write code to get the motion for the initial conditions yi = 100 m, vi = 0 (dropped from a height of 100 m), and plot the position vs time. (You don't have to change the `freefall` function, just call it with different parameters.) NOTE: the obvious choice will result in a 'divide by zero' error. You will need to provide a small nonzero velocity *in the correct direction* for the calculation to work."
   ]
  },
  {
   "cell_type": "code",
   "execution_count": null,
   "metadata": {},
   "outputs": [],
   "source": [
    "# your code here"
   ]
  },
  {
   "cell_type": "code",
   "execution_count": null,
   "metadata": {},
   "outputs": [],
   "source": [
    "# your code here"
   ]
  },
  {
   "cell_type": "markdown",
   "metadata": {},
   "source": [
    "# Mass on a Spring"
   ]
  },
  {
   "cell_type": "markdown",
   "metadata": {},
   "source": [
    "Springs store potential energy with a different formula, U(x) = 1/2 * k * x\\*\\*2. (Remember that ^2 doesn't square in Python: you have to write exponents after two asterisks.) *k* represents the stiffness of the spring. This *elastic* potential energy causes objects on the springs to oscillate back and forth."
   ]
  },
  {
   "cell_type": "markdown",
   "metadata": {},
   "source": [
    "**Exercise 3:** Modify the `freefall` function into a `spring` function that calculates the motion of a mass on a spring. (You will need to change the potential energy formula everywhere it appears. You can either change y->x or leave everything in terms of y.) Set *k* to be 1 for simplicity (its units are J/m^2). \n",
    "\n",
    "Once you have written your function, generate motion and plots for different initial conditions and make sure that things seem right. In reality, the mass will oscillate back and forth, but for now our code has problems with changing direction, so you will only ever see part of an oscillation."
   ]
  },
  {
   "cell_type": "code",
   "execution_count": null,
   "metadata": {},
   "outputs": [],
   "source": [
    "def spring(yi,vi,ti,tf,dt):\n",
    "    # your code here"
   ]
  },
  {
   "cell_type": "code",
   "execution_count": null,
   "metadata": {},
   "outputs": [],
   "source": [
    "# your code to generate example motions and plot them here"
   ]
  },
  {
   "cell_type": "markdown",
   "metadata": {},
   "source": [
    "# Submit"
   ]
  },
  {
   "cell_type": "markdown",
   "metadata": {},
   "source": [
    "Once you have completed all 4 exercises with code that runs properly (and written discussion answers as appropriate), make sure that your name and the names of your lab partners (if any) are at the top of the file. Then, making sure the notebook is saved, \"File > Download\" (you should get a .ipynb file), rename it to `lastname_195_lab_2.ipynb`, and email it to me (tdwiser@truman.edu) with the subject line \"Online Lab 2 Submission.\""
   ]
  },
  {
   "cell_type": "markdown",
   "metadata": {},
   "source": [
    "Note that you will not be able to open this file by double-clicking on it, because Windows doesn't recognize this file type. You can reopen it from inside Jupyter Notebook to make sure the contents are saved and correct."
   ]
  }
 ],
 "metadata": {
  "kernelspec": {
   "display_name": "Python 3",
   "language": "python",
   "name": "python3"
  },
  "language_info": {
   "codemirror_mode": {
    "name": "ipython",
    "version": 3
   },
   "file_extension": ".py",
   "mimetype": "text/x-python",
   "name": "python",
   "nbconvert_exporter": "python",
   "pygments_lexer": "ipython3",
   "version": "3.6.10"
  }
 },
 "nbformat": 4,
 "nbformat_minor": 4
}
