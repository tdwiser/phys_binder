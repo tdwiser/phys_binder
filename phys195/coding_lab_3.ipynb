{
 "cells": [
  {
   "cell_type": "markdown",
   "metadata": {},
   "source": [
    "# Phys 195 - Coding Lab 3\n",
    "## Simulations using Force"
   ]
  },
  {
   "cell_type": "markdown",
   "metadata": {},
   "source": [
    "Your name:\n",
    "\n",
    "Name(s) of lab partners:"
   ]
  },
  {
   "cell_type": "markdown",
   "metadata": {},
   "source": [
    "# Introduction"
   ]
  },
  {
   "cell_type": "markdown",
   "metadata": {},
   "source": [
    "In some cases, forces (combined with Newton's 2nd Law) provides a more straightforward way to simulate motion than conservation of energy. Turning points are handled with no problems. (Mathematically this is because we no longer have to take a square root and manually decide whether that square root is positive or negative.)"
   ]
  },
  {
   "cell_type": "code",
   "execution_count": 1,
   "metadata": {},
   "outputs": [],
   "source": [
    "import math # includes functions like math.sqrt, math.pow\n",
    "import numpy as np # fast numerical functions on lists\n",
    "import matplotlib.pyplot as plt # plotting functions"
   ]
  },
  {
   "cell_type": "code",
   "execution_count": 2,
   "metadata": {},
   "outputs": [],
   "source": [
    "def freefall(yi,vi,ti,tf,dt): # define a function to compute the motion of a free-falling object.\n",
    "    # yi, vi are initial position and velocity; ti, tf are initial and final times; dt is the timestep.\n",
    "    # returns: (t,v,y) lists of times, velocities, and y-values\n",
    "    (t, v, y) = (ti, vi, yi)\n",
    "    t_list = [t] # start lists for keeping track of values over time\n",
    "    v_list = [v]\n",
    "    y_list = [y]\n",
    "    m = 1 # kg; doesn't matter for free-fall but might for other types of motion\n",
    "    g = 9.8 # m/s^2; constant gravitational field near surface of Earth\n",
    "    while t < tf: # keep repeating the indented code until time is up\n",
    "        y = y + v*dt # move a bit assuming constant velocity\n",
    "        F = -m*g # compute the force using the near-Earth gravitational field\n",
    "        a = F/m # compute the acceleration from N2\n",
    "        v = v + a*dt # update the velocity by accelerating at -g\n",
    "        t = t + dt\n",
    "        t_list.append(t) # add the current values to the lists\n",
    "        v_list.append(v)\n",
    "        y_list.append(y)\n",
    "    return (t_list, v_list, y_list) # return the lists as the output of the function"
   ]
  },
  {
   "cell_type": "code",
   "execution_count": 5,
   "metadata": {},
   "outputs": [],
   "source": [
    "(t,v,y) = freefall(0,10,0,2.5,0.01) # run the calculation and get lists for t, v, y for the specified initial conditions"
   ]
  },
  {
   "cell_type": "code",
   "execution_count": 6,
   "metadata": {},
   "outputs": [
    {
     "data": {
      "text/plain": [
       "[<matplotlib.lines.Line2D at 0x7fe8413a8518>]"
      ]
     },
     "execution_count": 6,
     "metadata": {},
     "output_type": "execute_result"
    },
    {
     "data": {
      "image/png": "[encoded data removed]",
      "text/plain": [
       "<Figure size 432x288 with 1 Axes>"
      ]
     },
     "metadata": {
      "needs_background": "light"
     },
     "output_type": "display_data"
    }
   ],
   "source": [
    "plt.plot(t,y)"
   ]
  },
  {
   "cell_type": "markdown",
   "metadata": {},
   "source": [
    "Note that the object reaches its maximum height and cleanly turns around, whereas the code we wrote last time using energy had to stop calculating at that point."
   ]
  },
  {
   "cell_type": "markdown",
   "metadata": {},
   "source": [
    "# Simple Harmonic Oscillator (again)\n",
    "\n",
    "**Exercise 1:** Copy the `freefall` function above and modify it to simulate a mass on a spring. Last time we used the spring potential energy, U(y)=1/2 ky^2. This time, use the spring *force*, F=-ky. (These formulas assume that the spring oscillates along the y-axis, but we're ignoring gravity, so there's no difference from oscillating horizontally.)"
   ]
  },
  {
   "cell_type": "code",
   "execution_count": null,
   "metadata": {},
   "outputs": [],
   "source": [
    "def spring(yi,vi,ti,tf,dt): # define a function to compute the motion of a mass on a spring.\n",
    "    # your code here!"
   ]
  },
  {
   "cell_type": "markdown",
   "metadata": {},
   "source": [
    "**Exercise 2:** Use your code to compute and plot the motion of a spring which is initially stretched and released from rest. (This matches the scenario we developed in class with phase shift $\\delta=0$.) Verify that your result looks like a cosine function. Finally, determine the period T of the oscillation (either by reading from the plot, or writing more code, your choice) and verify that it matches our predicted value of $T=2\\pi \\sqrt{m/k}$. Quadruple the values of m and k (one at a time) and make sure that the period doubles or halves as predicted."
   ]
  },
  {
   "cell_type": "code",
   "execution_count": null,
   "metadata": {},
   "outputs": [],
   "source": [
    "# your code and plots here"
   ]
  },
  {
   "cell_type": "markdown",
   "metadata": {},
   "source": [
    "(your commentary here)"
   ]
  },
  {
   "cell_type": "markdown",
   "metadata": {},
   "source": [
    "# Numerical Accuracy"
   ]
  },
  {
   "cell_type": "markdown",
   "metadata": {},
   "source": [
    "Numerical solutions to physics problems are necessarily approximate. There are two sources of errors: our own approximations (assuming the acceleration and/or velocity are constant during short periods of time) and numerical error (because computers can only work with a certain number of digits at a time, rounding errors are introduced and build up over more and more iterations of a calculation). The first type of uncertainty can be reduced by using a smaller time interval dt, but this makes the second type of uncertainty worse because more tiny rounding errors can be introduced."
   ]
  },
  {
   "cell_type": "markdown",
   "metadata": {},
   "source": [
    "**Exercise 3:** Numerical accuracy can also be affected by *very subtle* changes in your code. First, generate a plot using your `spring` function over a very long time interval---tens or hundreds of oscillations. See if the amplitude grows or shrinks over time. (If you copied the `freefall` code very carefully, it shouldn't.) Then define a modified function `spring2` which is exactly the same except that it calculates the force *before* updating the position. (This doesn't seem like it should matter much, right?) Compare your results over many oscillations, and comment on the difference in how the amplitude behaves. What conservation law is being violated by our approximation?"
   ]
  },
  {
   "cell_type": "code",
   "execution_count": null,
   "metadata": {},
   "outputs": [],
   "source": [
    "# your code here, including plots and spring2 function"
   ]
  },
  {
   "cell_type": "markdown",
   "metadata": {},
   "source": [
    "(your commentary here)"
   ]
  },
  {
   "cell_type": "markdown",
   "metadata": {},
   "source": [
    "(Extra commentary: the original order (update position, then compute acceleration, then update velocity) is an example of a 'symplectic algorithm' that does a better job of preserving conserved quantities, but might do a worse job at capturing some other aspects of the motion such as oscillation frequency. There are also higher-order algorithms that make use of better approximations than our constant-velocity/constant-acceleration time steps. But, the simplest symplectic algorithm does a pretty good job.)"
   ]
  },
  {
   "cell_type": "markdown",
   "metadata": {},
   "source": [
    "# Damped Oscillators\n",
    "\n",
    "**Exercise 4:** Define yet another function `spring3` that includes the effects of air resistance or other drag force on the oscillations. This should, in principle, make a more realistic model of a mass on a spring, that results in the mass slowing down and reaching equilibrium. Assume the drag force has the form $$F_{\\rm drag} = -bv$$ where b is some positive constant.\n",
    "\n",
    "Try different values of b; see if you can make a system that oscillates about 10 times before its amplitude has decayed significantly, and try making a system that *never* oscillates---just slides back to equilibrium without overshooting.\n",
    "\n",
    "Discuss how the different values of b make this happen."
   ]
  },
  {
   "cell_type": "code",
   "execution_count": null,
   "metadata": {},
   "outputs": [],
   "source": [
    "# your code here, including definition of spring3 function"
   ]
  },
  {
   "cell_type": "markdown",
   "metadata": {},
   "source": [
    "(your commentary here)"
   ]
  },
  {
   "cell_type": "markdown",
   "metadata": {},
   "source": [
    "# Submit"
   ]
  },
  {
   "cell_type": "markdown",
   "metadata": {},
   "source": [
    "Once you have completed all 4 exercises with code that runs properly (and written discussion answers as appropriate), make sure that your name is at the top of the file. Then, making sure the notebook is saved, \"File > Download\" (you should get a .ipynb file), rename it to `lastname_195_lab_3.ipynb`, and email it to me (tdwiser@truman.edu) with the subject line \"Coding Lab 3 Submission.\""
   ]
  },
  {
   "cell_type": "markdown",
   "metadata": {},
   "source": [
    "Note that you will (probably) not be able to open this file by double-clicking on it, because Windows doesn't recognize this file type. You can reopen it from inside Jupyter Notebook to make sure the contents are saved and correct."
   ]
  }
 ],
 "metadata": {
  "kernelspec": {
   "display_name": "Python 3",
   "language": "python",
   "name": "python3"
  },
  "language_info": {
   "codemirror_mode": {
    "name": "ipython",
    "version": 3
   },
   "file_extension": ".py",
   "mimetype": "text/x-python",
   "name": "python",
   "nbconvert_exporter": "python",
   "pygments_lexer": "ipython3",
   "version": "3.6.13"
  }
 },
 "nbformat": 4,
 "nbformat_minor": 4
}
