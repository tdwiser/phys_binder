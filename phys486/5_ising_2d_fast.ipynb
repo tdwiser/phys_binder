{
 "cells": [
  {
   "cell_type": "markdown",
   "metadata": {},
   "source": [
    "# 2D Ising Model - Fast"
   ]
  },
  {
   "cell_type": "code",
   "execution_count": null,
   "metadata": {},
   "outputs": [],
   "source": [
    "import numpy as np\n",
    "import matplotlib.pyplot as plt\n",
    "%matplotlib inline\n",
    "from IPython.display import ProgressBar"
   ]
  },
  {
   "cell_type": "code",
   "execution_count": null,
   "metadata": {},
   "outputs": [],
   "source": [
    "%load_ext cython"
   ]
  },
  {
   "cell_type": "code",
   "execution_count": null,
   "metadata": {},
   "outputs": [],
   "source": [
    "# slow python version\n",
    "def py_metropolis_step(state, kT, j, b, nSteps=1):\n",
    "    for _ in range(nSteps):\n",
    "        N, M = state.shape #len(state), len(state[0])\n",
    "        idx, idy = np.random.randint(N), np.random.randint(M)\n",
    "        deltaE = 2*state[idx,idy]*b + 2*j*state[idx,idy]*(state[(idx-1) % N,idy] + state[(idx+1) % N,idy]\n",
    "                                                     +state[idx,(idy-1) % M] + state[idx,(idy+1)%M])\n",
    "        if deltaE < 0 or np.random.uniform() < np.exp(-deltaE/kT):\n",
    "            state[idx,idy] *= -1"
   ]
  },
  {
   "cell_type": "code",
   "execution_count": null,
   "metadata": {},
   "outputs": [],
   "source": [
    "%%cython -a\n",
    "# cython: boundscheck=False, initializedcheck=False, overflowcheck=False, cdivision=True\n",
    "# xcython:  profile=True, binding=True\n",
    "# xcython: linetrace=True\n",
    "# xdistutils: define_macros=CYTHON_TRACE_NOGIL=1\n",
    "# distutils: extra_compile_args=[\"-O3\", \"-fopenmp\"]\n",
    "# distutils: extra_link_args=\"-fopenmp\"\n",
    "\n",
    "cimport cython as c\n",
    "cimport numpy as np\n",
    "import numpy as np\n",
    "\n",
    "from libc.stdlib cimport rand\n",
    "from libc.math cimport exp\n",
    "\n",
    "cdef extern from \"limits.h\":\n",
    "    int RAND_MAX\n",
    "\n",
    "def random_state(m: c.int, n: c.int):\n",
    "    cdef int[:,::1] state = np.random.randint(0,2,(m,n)).astype(np.intc)*2 - 1\n",
    "    return state\n",
    "\n",
    "def metropolis_step(state: c.int[:,::1], kT: c.double, j: c.double, b: c.double, nSteps: c.int = 1) -> None:\n",
    "# cdef void metropolis_step(int[:,::1] state, double kT, double j, double b, int nSteps):\n",
    "    cdef int i\n",
    "    cdef int N, M\n",
    "    N = state.shape[0]\n",
    "    M = state.shape[1]\n",
    "    cdef double deltaE\n",
    "    cdef int idx, idy\n",
    "    for i in range(nSteps):\n",
    "        idx, idy = rand() % N, rand() % M\n",
    "        deltaE = 2*state[idx,idy]*b + 2*j*state[idx,idy]*(state[(idx-1) % N,idy] + state[(idx+1) % N,idy]\n",
    "                                                     +state[idx,(idy-1) % M] + state[idx,(idy+1)%M])\n",
    "        if deltaE < 0 or <double>rand()/RAND_MAX < exp(-deltaE/kT):\n",
    "            state[idx,idy] *= -1"
   ]
  },
  {
   "cell_type": "code",
   "execution_count": null,
   "metadata": {},
   "outputs": [],
   "source": [
    "s = random_state(100,100)"
   ]
  },
  {
   "cell_type": "code",
   "execution_count": null,
   "metadata": {},
   "outputs": [],
   "source": [
    "metropolis_step(s,2.27,1,0,100000)"
   ]
  },
  {
   "cell_type": "code",
   "execution_count": null,
   "metadata": {},
   "outputs": [],
   "source": [
    "plt.matshow(s)"
   ]
  },
  {
   "cell_type": "code",
   "execution_count": null,
   "metadata": {},
   "outputs": [],
   "source": [
    "%timeit metropolis_step(s, 3, 1, 0, 1000)"
   ]
  },
  {
   "cell_type": "code",
   "execution_count": null,
   "metadata": {},
   "outputs": [],
   "source": [
    "%timeit py_metropolis_step(s, 3, 1, 0, 1000)"
   ]
  },
  {
   "cell_type": "code",
   "execution_count": null,
   "metadata": {},
   "outputs": [],
   "source": [
    "def energy(state, j, b):\n",
    "    return -b*np.sum(state) -j*np.sum(state*(np.roll(state,1,axis=0) + np.roll(state,1,axis=1)))"
   ]
  },
  {
   "cell_type": "code",
   "execution_count": null,
   "metadata": {
    "tags": []
   },
   "outputs": [],
   "source": [
    "def avg_mag(kT, j, b, N=100, Nsamples=1000, chunk_size=100):\n",
    "    mags = np.zeros(Nsamples)\n",
    "    ens = np.zeros(Nsamples)\n",
    "    for i in range(Nsamples):\n",
    "        if i % chunk_size == 0:\n",
    "            s = random_state(N,N)\n",
    "            metropolis_step(s, kT, j, j, N**2)\n",
    "            metropolis_step(s, kT, j, b, 10*N**2) # anneal\n",
    "        metropolis_step(s, kT, j, b, N**2) # burn N^2 steps to get an indep. sample\n",
    "        mags[i] = np.sum(s)\n",
    "        ens[i] = energy(s, j, b)\n",
    "    return np.mean(mags), np.mean(ens)"
   ]
  },
  {
   "cell_type": "code",
   "execution_count": null,
   "metadata": {},
   "outputs": [],
   "source": [
    "temps = np.linspace(0.1,4,25)\n",
    "mags = np.zeros_like(temps)\n",
    "ens = np.zeros_like(temps)\n",
    "progress = ProgressBar(len(temps))\n",
    "for i in progress:\n",
    "    mags[i], ens[i] = avg_mag(temps[i],1,0,N=30,Nsamples=10000,chunk_size=300)"
   ]
  },
  {
   "cell_type": "code",
   "execution_count": null,
   "metadata": {},
   "outputs": [],
   "source": [
    "# make smooth curves using a rolling average of Navg temperature values\n",
    "Navg = 2 # must be even\n",
    "cmags = np.cumsum(mags)\n",
    "smags = (cmags[Navg:] - cmags[:-Navg])/Navg\n",
    "cens = np.cumsum(ens)\n",
    "sens = (cens[Navg:] - cens[:-Navg])/Navg\n",
    "stemps = temps[Navg//2:-Navg//2]"
   ]
  },
  {
   "cell_type": "code",
   "execution_count": null,
   "metadata": {
    "tags": []
   },
   "outputs": [],
   "source": [
    "plt.plot(temps,mags), plt.plot(stemps, smags)"
   ]
  },
  {
   "cell_type": "code",
   "execution_count": null,
   "metadata": {
    "tags": []
   },
   "outputs": [],
   "source": [
    "plt.plot(stemps, np.gradient(sens))\n",
    "plt.plot(stemps, -np.gradient(smags))"
   ]
  },
  {
   "cell_type": "markdown",
   "metadata": {},
   "source": [
    "Try to find critical temperature"
   ]
  },
  {
   "cell_type": "code",
   "execution_count": null,
   "metadata": {},
   "outputs": [],
   "source": [
    "stemps[np.argmin(np.gradient(smags))]"
   ]
  },
  {
   "cell_type": "code",
   "execution_count": null,
   "metadata": {},
   "outputs": [],
   "source": [
    "stemps[np.argmax(np.gradient(sens))]"
   ]
  },
  {
   "cell_type": "code",
   "execution_count": null,
   "metadata": {},
   "outputs": [],
   "source": [
    "s = random_state(50,50)\n",
    "metropolis_step(s,1,1,0.01,200000)\n",
    "plt.matshow(s)"
   ]
  },
  {
   "cell_type": "code",
   "execution_count": null,
   "metadata": {},
   "outputs": [],
   "source": []
  }
 ],
 "metadata": {
  "kernelspec": {
   "display_name": "Python 3.9+OpenCV 4.5",
   "language": "python",
   "name": "opencv"
  },
  "language_info": {
   "codemirror_mode": {
    "name": "ipython",
    "version": 3
   },
   "file_extension": ".py",
   "mimetype": "text/x-python",
   "name": "python",
   "nbconvert_exporter": "python",
   "pygments_lexer": "ipython3",
   "version": "3.9.12"
  }
 },
 "nbformat": 4,
 "nbformat_minor": 4
}
