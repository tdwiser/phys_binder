{
 "cells": [
  {
   "cell_type": "markdown",
   "metadata": {},
   "source": [
    "# 1D Ising Model"
   ]
  },
  {
   "cell_type": "code",
   "execution_count": null,
   "metadata": {},
   "outputs": [],
   "source": [
    "import numpy as np\n",
    "import matplotlib.pyplot as plt\n",
    "%matplotlib inline\n",
    "from IPython.display import ProgressBar"
   ]
  },
  {
   "cell_type": "code",
   "execution_count": null,
   "metadata": {},
   "outputs": [],
   "source": [
    "def random_state(shape):\n",
    "    return np.random.randint(0,2,shape)*2 - 1"
   ]
  },
  {
   "cell_type": "code",
   "execution_count": null,
   "metadata": {},
   "outputs": [],
   "source": [
    "def paramagnet_metropolis_step(state, kT, b, nSteps=1):\n",
    "    \"\"\"\n",
    "        Take one Metropolis step on the input state. The state is modified (or not) in place, so nothing is returned.\n",
    "        Energy function is for the 2-state paramagnet in magnetic field *b* at temperature *kT*.\n",
    "    \"\"\"\n",
    "    for _ in range(nSteps):\n",
    "        idx = np.random.randint(len(state)) # pick a random spin\n",
    "        deltaE = 2*state[idx]*b # E = -mu B; dE = -(-mu B) - (-mu B) = 2 mu B\n",
    "        r = np.exp(-deltaE/kT)\n",
    "        if r >= 1 or np.random.uniform() < r:\n",
    "            state[idx] *= -1"
   ]
  },
  {
   "cell_type": "code",
   "execution_count": null,
   "metadata": {},
   "outputs": [],
   "source": [
    "# define the ising model metropolis step function here"
   ]
  },
  {
   "cell_type": "code",
   "execution_count": null,
   "metadata": {
    "tags": []
   },
   "outputs": [],
   "source": [
    "def avg_mag(kT, b, N=100, Nsamples=1000):\n",
    "    mags = np.zeros(Nsamples)\n",
    "    s = random_state(N)\n",
    "    metropolis_step(s, kT, b, N) # burn-in\n",
    "    for i in range(Nsamples):\n",
    "        metropolis_step(s, kT, b, N) # burn N steps to get an indep. sample\n",
    "        mags[i] = np.sum(s)\n",
    "    return np.mean(mags)"
   ]
  },
  {
   "cell_type": "code",
   "execution_count": null,
   "metadata": {},
   "outputs": [],
   "source": [
    "temps = np.linspace(0.001,3,100)\n",
    "mags = np.zeros_like(temps)\n",
    "progress = ProgressBar(len(temps))\n",
    "for i in progress:\n",
    "    mags[i] = avg_mag(temps[i],1)"
   ]
  },
  {
   "cell_type": "code",
   "execution_count": null,
   "metadata": {},
   "outputs": [],
   "source": [
    "plt.plot(temps,mags)"
   ]
  },
  {
   "cell_type": "code",
   "execution_count": null,
   "metadata": {},
   "outputs": [],
   "source": [
    "plt.plot(temps, mags)\n",
    "plt.plot(temps, 100*np.tanh(1/temps))"
   ]
  },
  {
   "cell_type": "code",
   "execution_count": null,
   "metadata": {},
   "outputs": [],
   "source": []
  }
 ],
 "metadata": {
  "kernelspec": {
   "display_name": "Python 3",
   "language": "python",
   "name": "python3"
  },
  "language_info": {
   "codemirror_mode": {
    "name": "ipython",
    "version": 3
   },
   "file_extension": ".py",
   "mimetype": "text/x-python",
   "name": "python",
   "nbconvert_exporter": "python",
   "pygments_lexer": "ipython3",
   "version": "3.6.13"
  }
 },
 "nbformat": 4,
 "nbformat_minor": 4
}
