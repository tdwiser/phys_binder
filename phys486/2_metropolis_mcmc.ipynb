{
 "cells": [
  {
   "cell_type": "markdown",
   "metadata": {},
   "source": [
    "# Markov Chain Monte Carlo (MCMC) Sampling with the Metropolis Algorithm"
   ]
  },
  {
   "cell_type": "code",
   "execution_count": 1,
   "metadata": {},
   "outputs": [],
   "source": [
    "import numpy as np\n",
    "import matplotlib.pyplot as plt\n",
    "%matplotlib inline\n",
    "from IPython.display import ProgressBar"
   ]
  },
  {
   "cell_type": "code",
   "execution_count": 2,
   "metadata": {},
   "outputs": [],
   "source": [
    "def random_state(shape):\n",
    "    return np.random.randint(0,2,shape)*2 - 1"
   ]
  },
  {
   "cell_type": "markdown",
   "metadata": {},
   "source": [
    "## Outline of Algorithm (Metropolis Step):\n",
    "\n",
    "0. Start with a random state (1).\n",
    "1. Consider a random change to the state. In particular, choose one spin at random and consider flipping it. The new candidate state is state (2).\n",
    "2. Compute the ratio of the probabilities $r=P_2/P_1$. For a thermal system, this is the relative Boltzmann factor $\\exp(-(E_2-E_1)/kT)$.\n",
    "3. If $r \\ge 1$, accept the change. If $r < 1$, accept the change with probability $r$. If the change is rejected, state (1) is sampled a second time.\n",
    "4. Repeat from step 1.\n",
    "\n",
    "Over a long period of time, the states will be sampled proportionally to their probabilities (Boltzmann factors). In practice, an initial number of Metropolis steps are performed without retaining the results; this is the ''burn in'' phase. Then, between each sample, many Metropolis steps are performed in order to make the samples statistically independent."
   ]
  },
  {
   "cell_type": "code",
   "execution_count": null,
   "metadata": {},
   "outputs": [],
   "source": []
  }
 ],
 "metadata": {
  "kernelspec": {
   "display_name": "Python 3",
   "language": "python",
   "name": "python3"
  },
  "language_info": {
   "codemirror_mode": {
    "name": "ipython",
    "version": 3
   },
   "file_extension": ".py",
   "mimetype": "text/x-python",
   "name": "python",
   "nbconvert_exporter": "python",
   "pygments_lexer": "ipython3",
   "version": "3.6.13"
  }
 },
 "nbformat": 4,
 "nbformat_minor": 4
}
