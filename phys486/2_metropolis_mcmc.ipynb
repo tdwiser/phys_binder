{
 "cells": [
  {
   "cell_type": "markdown",
   "metadata": {},
   "source": [
    "# Markov Chain Monte Carlo (MCMC) Sampling with the Metropolis Algorithm"
   ]
  },
  {
   "cell_type": "code",
   "execution_count": 6,
   "metadata": {},
   "outputs": [],
   "source": [
    "import numpy as np\n",
    "import matplotlib.pyplot as plt\n",
    "%matplotlib inline\n",
    "from IPython.display import ProgressBar"
   ]
  },
  {
   "cell_type": "code",
   "execution_count": 7,
   "metadata": {},
   "outputs": [],
   "source": [
    "def random_state(shape):\n",
    "    return np.random.randint(0,2,shape)*2 - 1"
   ]
  },
  {
   "cell_type": "markdown",
   "metadata": {},
   "source": [
    "## Outline of Algorithm (Metropolis Step):\n",
    "\n",
    "0. Start with a random state (1).\n",
    "1. Consider a random change to the state. In particular, choose one spin at random and consider flipping it. The new candidate state is state (2).\n",
    "2. Compute the ratio of the probabilities $ r=P_2/P_1 $. For a thermal system, this is the relative Boltzmann factor $r=\\exp(-(E_2-E_1)/kT)$.\n",
    "3. If $r \\ge 1$, accept the change. If $r < 1$, accept the change with probability $r$. If the change is rejected, state (1) is sampled a second time.\n",
    "4. Repeat from step 1.\n",
    "\n",
    "Over a long period of time, the states will be sampled proportionally to their probabilities (Boltzmann factors). In practice, an initial number of Metropolis steps are performed without retaining the results; this is the ''burn in'' phase. Then, between each sample, many Metropolis steps are performed in order to make the samples statistically independent."
   ]
  },
  {
   "cell_type": "code",
   "execution_count": 74,
   "metadata": {},
   "outputs": [],
   "source": [
    "def metropolis_step(state, kT, b, nSteps=1):\n",
    "    \"\"\"\n",
    "        Take one Metropolis step on the input state. The state is modified (or not) in place, so nothing is returned.\n",
    "        Energy function is for the 2-state paramagnet in magnetic field *b* at temperature *kT*.\n",
    "    \"\"\"\n",
    "    for _ in range(nSteps):\n",
    "        idx = np.random.randint(len(state)) # pick a random spin\n",
    "        deltaE = 2*state[idx]*b # E = -mu B; dE = -(-mu B) - (-mu B) = 2 mu B\n",
    "        r = np.exp(-deltaE/kT)\n",
    "        if r >= 1 or np.random.uniform() < r:\n",
    "            state[idx] *= -1"
   ]
  },
  {
   "cell_type": "code",
   "execution_count": 75,
   "metadata": {},
   "outputs": [
    {
     "name": "stdout",
     "output_type": "stream",
     "text": [
      "[-1 -1 -1 -1 -1  1  1 -1 -1  1]\n"
     ]
    }
   ],
   "source": [
    "s = random_state(10)\n",
    "print(s)"
   ]
  },
  {
   "cell_type": "code",
   "execution_count": 101,
   "metadata": {},
   "outputs": [
    {
     "name": "stdout",
     "output_type": "stream",
     "text": [
      "[ 1  1 -1 -1 -1 -1 -1 -1  1 -1]\n"
     ]
    }
   ],
   "source": [
    "metropolis_step(s, 10, 1, 100)\n",
    "print(s)"
   ]
  },
  {
   "cell_type": "code",
   "execution_count": 110,
   "metadata": {},
   "outputs": [
    {
     "data": {
      "text/html": [
       "<progress style='width:60ex' max='1000' value='1000'></progress>"
      ],
      "text/plain": [
       "[============================================================] 1000/1000"
      ]
     },
     "metadata": {},
     "output_type": "display_data"
    }
   ],
   "source": [
    "N = 100\n",
    "Nsamples = 1000\n",
    "kT = 10\n",
    "b = 1\n",
    "mags = np.zeros(Nsamples)\n",
    "s = random_state(N)\n",
    "metropolis_step(s, kT, b, N) # burn-in\n",
    "progress = ProgressBar(Nsamples)\n",
    "for i in progress:\n",
    "    metropolis_step(s, kT, b, N) # burn N steps to get an indep. sample\n",
    "    mags[i] = np.sum(s)"
   ]
  },
  {
   "cell_type": "code",
   "execution_count": 111,
   "metadata": {},
   "outputs": [
    {
     "data": {
      "text/plain": [
       "(array([  6.,  27.,  83., 156., 201., 220., 178.,  82.,  38.,   9.]),\n",
       " array([-22. , -15.8,  -9.6,  -3.4,   2.8,   9. ,  15.2,  21.4,  27.6,\n",
       "         33.8,  40. ]),\n",
       " <BarContainer object of 10 artists>)"
      ]
     },
     "execution_count": 111,
     "metadata": {},
     "output_type": "execute_result"
    },
    {
     "data": {
      "image/png": "[encoded data removed]",
      "text/plain": [
       "<Figure size 432x288 with 1 Axes>"
      ]
     },
     "metadata": {
      "needs_background": "light"
     },
     "output_type": "display_data"
    }
   ],
   "source": [
    "plt.hist(mags)"
   ]
  },
  {
   "cell_type": "code",
   "execution_count": 112,
   "metadata": {},
   "outputs": [
    {
     "data": {
      "text/plain": [
       "<matplotlib.image.AxesImage at 0x7f11fefd3470>"
      ]
     },
     "execution_count": 112,
     "metadata": {},
     "output_type": "execute_result"
    },
    {
     "data": {
      "image/png": "[encoded data removed]",
      "text/plain": [
       "<Figure size 1152x144 with 1 Axes>"
      ]
     },
     "metadata": {
      "needs_background": "light"
     },
     "output_type": "display_data"
    }
   ],
   "source": [
    "plt.matshow([s])"
   ]
  },
  {
   "cell_type": "code",
   "execution_count": 113,
   "metadata": {},
   "outputs": [],
   "source": [
    "def avg_mag(kT, b, N=100, Nsamples=1000):\n",
    "    mags = np.zeros(Nsamples)\n",
    "    s = random_state(N)\n",
    "    metropolis_step(s, kT, b, N) # burn-in\n",
    "    for i in range(Nsamples):\n",
    "        metropolis_step(s, kT, b, N) # burn N steps to get an indep. sample\n",
    "        mags[i] = np.sum(s)\n",
    "    return np.mean(mags)"
   ]
  },
  {
   "cell_type": "code",
   "execution_count": 117,
   "metadata": {},
   "outputs": [
    {
     "data": {
      "text/html": [
       "<progress style='width:60ex' max='100' value='100'></progress>"
      ],
      "text/plain": [
       "[============================================================] 100/100"
      ]
     },
     "metadata": {},
     "output_type": "display_data"
    },
    {
     "name": "stderr",
     "output_type": "stream",
     "text": [
      "/opt/conda/envs/python_tf21/lib/python3.6/site-packages/ipykernel_launcher.py:9: RuntimeWarning: divide by zero encountered in true_divide\n",
      "  if __name__ == '__main__':\n"
     ]
    }
   ],
   "source": [
    "temps = np.linspace(0,3,100)\n",
    "mags = np.zeros_like(temps)\n",
    "progress = ProgressBar(len(temps))\n",
    "for i in progress:\n",
    "    mags[i] = avg_mag(temps[i],1)"
   ]
  },
  {
   "cell_type": "code",
   "execution_count": 118,
   "metadata": {},
   "outputs": [
    {
     "data": {
      "text/plain": [
       "[<matplotlib.lines.Line2D at 0x7f11fefa3198>]"
      ]
     },
     "execution_count": 118,
     "metadata": {},
     "output_type": "execute_result"
    },
    {
     "data": {
      "image/png": "[encoded data removed]",
      "text/plain": [
       "<Figure size 432x288 with 1 Axes>"
      ]
     },
     "metadata": {
      "needs_background": "light"
     },
     "output_type": "display_data"
    }
   ],
   "source": [
    "plt.plot(temps,mags)"
   ]
  },
  {
   "cell_type": "code",
   "execution_count": 119,
   "metadata": {},
   "outputs": [
    {
     "name": "stderr",
     "output_type": "stream",
     "text": [
      "/opt/conda/envs/python_tf21/lib/python3.6/site-packages/ipykernel_launcher.py:2: RuntimeWarning: divide by zero encountered in true_divide\n",
      "  \n"
     ]
    },
    {
     "data": {
      "text/plain": [
       "[<matplotlib.lines.Line2D at 0x7f1205324be0>]"
      ]
     },
     "execution_count": 119,
     "metadata": {},
     "output_type": "execute_result"
    },
    {
     "data": {
      "image/png": "[encoded data removed]",
      "text/plain": [
       "<Figure size 432x288 with 1 Axes>"
      ]
     },
     "metadata": {
      "needs_background": "light"
     },
     "output_type": "display_data"
    }
   ],
   "source": [
    "plt.plot(temps, mags)\n",
    "plt.plot(temps, 100*np.tanh(1/temps))"
   ]
  },
  {
   "cell_type": "code",
   "execution_count": null,
   "metadata": {},
   "outputs": [],
   "source": []
  }
 ],
 "metadata": {
  "kernelspec": {
   "display_name": "Python 3",
   "language": "python",
   "name": "python3"
  },
  "language_info": {
   "codemirror_mode": {
    "name": "ipython",
    "version": 3
   },
   "file_extension": ".py",
   "mimetype": "text/x-python",
   "name": "python",
   "nbconvert_exporter": "python",
   "pygments_lexer": "ipython3",
   "version": "3.6.13"
  }
 },
 "nbformat": 4,
 "nbformat_minor": 4
}
